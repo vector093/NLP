{
  "cells": [
    {
      "cell_type": "code",
      "execution_count": 23,
      "metadata": {
        "id": "AbS-J7_AQESl"
      },
      "outputs": [],
      "source": [
        "import torch\n",
        "import torchtext\n",
        "from torchtext import data\n",
        "import torch.optim as optim\n",
        "import argparse\n",
        "import os\n",
        "import pandas as pd"
      ]
    },
    {
      "cell_type": "code",
      "source": [
        "import random\n",
        "import sklearn\n",
        "from sklearn.model_selection import train_test_split\n",
        "import csv\n",
        "import matplotlib.pyplot as plt\n"
      ],
      "metadata": {
        "id": "T4iG9lwjhglv"
      },
      "execution_count": 24,
      "outputs": []
    },
    {
      "cell_type": "markdown",
      "source": [
        "#Importing Datasets"
      ],
      "metadata": {
        "id": "TuYm4MNJnr1A"
      }
    },
    {
      "cell_type": "markdown",
      "metadata": {
        "id": "pw9TD4EZQESp"
      },
      "source": [
        "TextDataset is Described in Section 3.3 of Assignment 2"
      ]
    },
    {
      "cell_type": "code",
      "execution_count": 25,
      "metadata": {
        "id": "z3s0EpV3QESs"
      },
      "outputs": [],
      "source": [
        "class TextDataset(torch.utils.data.Dataset):\n",
        "    def __init__(self, vocab, split=\"train\"):\n",
        "        data_path = \"/content/\"# set path to your dataset directory\n",
        "        df = pd.read_csv(os.path.join(data_path, f\"{split}.tsv\"), sep=\"\\t\")\n",
        "\n",
        "        # X: torch.tensor (maxlen, batch_size), padded indices\n",
        "        # Y: torch.tensor of len N\n",
        "        X, Y = [], []\n",
        "        V = len(vocab.vectors)\n",
        "        for i, row in df.iterrows():\n",
        "            L = row[\"text\"].split()\n",
        "            X.append(torch.tensor([vocab.stoi.get(w, V-1) for w in L]))  # Use the last word in the vocab as the \"out-of-vocabulary\" token\n",
        "            Y.append(row.label)\n",
        "        self.X = X \n",
        "        self.Y = torch.tensor(Y)\n",
        "        \n",
        "    def __len__(self):\n",
        "        return len(self.X)\n",
        "    def __getitem__(self, idx):\n",
        "        return self.X[idx], self.Y[idx] \n",
        "    \n",
        "# my_collate_function prepares batches\n",
        "# it also pads each batch with zeroes."
      ]
    },
    {
      "cell_type": "code",
      "source": [
        "glove = torchtext.vocab.GloVe(name=\"6B\", # trained on Wikipedia 2014 corpus\n",
        "                              dim=100)    # embedding size = 50"
      ],
      "metadata": {
        "colab": {
          "base_uri": "https://localhost:8080/"
        },
        "id": "NRUzeJ6VVfMn",
        "outputId": "b2f29671-2563-4180-8cb5-e00ea9997690"
      },
      "execution_count": 26,
      "outputs": [
        {
          "output_type": "stream",
          "name": "stderr",
          "text": [
            ".vector_cache/glove.6B.zip: 862MB [02:47, 5.15MB/s]                           \n",
            "100%|█████████▉| 399999/400000 [00:19<00:00, 20487.40it/s]\n"
          ]
        }
      ]
    },
    {
      "cell_type": "code",
      "execution_count": 27,
      "metadata": {
        "id": "58sqDjCmQESt"
      },
      "outputs": [],
      "source": [
        "def my_collate_function(batch, device):\n",
        "    # Handle the padding here\n",
        "    # batch is approximately: [dataset[i] for i in range(0, batch_size)]\n",
        "    # Since the dataset[i]'s contents is defined in the __getitem__() above, this collate function \n",
        "    # should be set correspondingly.\n",
        "    # Also: collate_function just takes one argument. To pass in additional arguments (e.g., device), \n",
        "    # we need to wrap up an anonymous function (using lambda below)\n",
        "    batch_x, batch_y = [], []\n",
        "    max_len = 0\n",
        "    for x,y in batch:\n",
        "        batch_y.append(y)\n",
        "        max_len = max(max_len, len(x))\n",
        "    for x,y in batch:\n",
        "        x_p = torch.concat(\n",
        "            [x, torch.zeros(max_len - len(x))]\n",
        "        )\n",
        "        batch_x.append(x_p)\n",
        "    return torch.stack(batch_x).t().int().to(device), torch.tensor(batch_y).to(device)"
      ]
    },
    {
      "cell_type": "code",
      "source": [
        "torch.manual_seed(2)\n",
        "device = torch.device('cuda' if torch.cuda.is_available() else 'cpu')\n",
        "print (\"Using device:\", device)\n",
        "\n",
        "### 3.3 Processing of the data ###\n",
        "# 3.3.1\n",
        "# The first time you run this will download a 862MB size file to .vector_cache/glove.6B.zip\n",
        "#glove = torchtext.vocab.GloVe(name=\"6B\",dim=100) # embedding size = 100\n",
        "                                \n",
        "# 3.3.2\n",
        "train_dataset = TextDataset(glove, \"train\")\n",
        "val_dataset = TextDataset(glove, \"val\")\n",
        "test_dataset = TextDataset(glove, \"test\")\n",
        "overfit_dataset= TextDataset(glove, \"overfit\")\n",
        "    \n",
        "# 3.3.3\n",
        "train_dataloader = torch.utils.data.DataLoader(\n",
        "    dataset=train_dataset, \n",
        "    batch_size=4, \n",
        "    shuffle=False, \n",
        "    collate_fn=lambda batch: my_collate_function(batch, device))\n",
        "validation_dataloader = torch.utils.data.DataLoader(\n",
        "    dataset=val_dataset, \n",
        "    batch_size=4, \n",
        "    shuffle=False, \n",
        "    collate_fn=lambda batch: my_collate_function(batch, device))\n",
        "test_dataloader = torch.utils.data.DataLoader(\n",
        "    dataset=test_dataset,\n",
        "    batch_size=4,\n",
        "    shuffle=False,\n",
        "    collate_fn=lambda batch: my_collate_function(batch, device))\n",
        "overfit_dataloader = torch.utils.data.DataLoader(\n",
        "        dataset=overfit_dataset,\n",
        "        batch_size=4,\n",
        "        shuffle=False,\n",
        "        collate_fn=lambda batch: my_collate_function(batch, device))\n",
        "\n",
        "\n"
      ],
      "metadata": {
        "colab": {
          "base_uri": "https://localhost:8080/"
        },
        "id": "JvPl4vROl9_c",
        "outputId": "54108037-a136-4a88-a358-906ba92bf080"
      },
      "execution_count": 32,
      "outputs": [
        {
          "output_type": "stream",
          "name": "stdout",
          "text": [
            "Using device: cpu\n"
          ]
        }
      ]
    },
    {
      "cell_type": "markdown",
      "source": [
        "#Creating baseline model"
      ],
      "metadata": {
        "id": "9oNK3lEJoqMl"
      }
    },
    {
      "cell_type": "code",
      "source": [
        "class BaselineModel(torch.nn.Module):\n",
        "    def __init__(self, vocab):\n",
        "        super().__init__()\n",
        "        # initialize word vectors to random numbers \n",
        "        self.embedding = torch.nn.Embedding.from_pretrained(vocab.vectors)\n",
        "        self.out=torch.nn.Linear(100,1)\n",
        "        #TO DO\n",
        "        \n",
        "        # prediction function takes embedding as input, and predicts which word in vocabulary as output\n",
        "\n",
        "        #TO DO\n",
        "        \n",
        "    def forward(self, x):\n",
        "        \"\"\"\n",
        "        x: torch.tensor of shape (bsz), bsz is the batch size\n",
        "        \"\"\"\n",
        "        #TO DO\n",
        "        e=0\n",
        "        for item in x:\n",
        "          e+=self.embedding(item)\n",
        "        e/= len(x)\n",
        "        logits=self.out(e).squeeze()\n",
        "        #out=torch.nn.functional.sigmoid(logits).squeeze()\n",
        "        \n",
        "        return logits"
      ],
      "metadata": {
        "id": "0Y4J7NhpmVWU"
      },
      "execution_count": 28,
      "outputs": []
    },
    {
      "cell_type": "markdown",
      "source": [
        "#testing baseline with overfit"
      ],
      "metadata": {
        "id": "d2_8bbVNpFWF"
      }
    },
    {
      "cell_type": "code",
      "source": [
        "model1=BaselineModel(glove)"
      ],
      "metadata": {
        "id": "7aWsx0zlzgf9"
      },
      "execution_count": 29,
      "outputs": []
    },
    {
      "cell_type": "code",
      "source": [
        "loss_func = torch.nn.BCEWithLogitsLoss()\n",
        "optimizer = optim.Adam(model1.parameters(), lr=0.001)\n",
        "train_losses=[]\n",
        "val_losses=[]\n",
        "train_acc_arr=[]\n",
        "val_acc_arr=[]"
      ],
      "metadata": {
        "id": "IjRSQa1e3DW2"
      },
      "execution_count": 30,
      "outputs": []
    },
    {
      "cell_type": "code",
      "source": [
        "for epoch in range(50):  # loop over the dataset multiple times\n",
        "\n",
        "    train_loss = 0.0\n",
        "    train_acc=0\n",
        "    val_acc=0\n",
        "    model1.train()\n",
        "    print('epoch=', epoch)\n",
        "    \n",
        "    for inputs, labels in overfit_dataloader:\n",
        "        # get the inputs; data is a list of [inputs, labels]\n",
        "        #inputs, labels = data\n",
        "\n",
        "        # zero the parameter gradients\n",
        "        optimizer.zero_grad()\n",
        "\n",
        "        # forward + backward + optimize\n",
        "        outputs = model1(inputs)\n",
        "        #print(outputs)\n",
        "        #print(labels)\n",
        "        loss = loss_func(outputs, labels.float())\n",
        "        loss.backward()\n",
        "        optimizer.step()\n",
        "\n",
        "        train_loss+= loss.item()\n",
        "        train_acc+=torch.sum(((outputs>0)== labels)[:].int()).item()\n",
        "    train_loss=train_loss/len(overfit_dataset)\n",
        "    train_losses.append(train_loss)\n",
        "    print('train loss=',train_loss)\n",
        "    train_acc=train_acc/len(overfit_dataset)\n",
        "    train_acc_arr.append(train_acc)\n",
        "    print('train_acc for epoch',train_acc)\n",
        "\n",
        "\n",
        "    val_loss=0.0\n",
        "    model1.eval()\n",
        "    for inputs, labels in validation_dataloader:\n",
        "\n",
        "      pred=model1(inputs)\n",
        "      loss = loss_func(pred, labels.float())\n",
        "      val_loss+= loss.item()\n",
        "      val_acc+=torch.sum(((pred>0)== labels)[:].int()).item()\n",
        "    val_loss=val_loss/len(val_dataset)\n",
        "    val_losses.append(val_loss)\n",
        "    print('validation error=',val_loss)\n",
        "    val_acc=val_acc/len(val_dataset)\n",
        "    val_acc_arr.append(val_acc)\n",
        "    print('val_acc for epoch',val_acc)\n",
        "\n",
        "\n",
        "print('Finished Training')\n",
        "plt.plot(train_losses, label='train loss')\n",
        "plt.plot(val_losses, label='validation loss')\n",
        "plt.legend()\n",
        "plt.show()"
      ],
      "metadata": {
        "colab": {
          "base_uri": "https://localhost:8080/",
          "height": 1000
        },
        "id": "foaSyO45bhxz",
        "outputId": "3db2dbbe-c010-4a2b-f1fb-8e59514ee296"
      },
      "execution_count": 33,
      "outputs": [
        {
          "output_type": "stream",
          "name": "stdout",
          "text": [
            "epoch= 0\n",
            "train loss= 0.18663447499275207\n",
            "train_acc for epoch 0.38\n",
            "validation error= 0.17188145902007818\n",
            "val_acc for epoch 0.568125\n",
            "epoch= 1\n",
            "train loss= 0.18024981260299683\n",
            "train_acc for epoch 0.5\n",
            "validation error= 0.17149117842316627\n",
            "val_acc for epoch 0.59375\n",
            "epoch= 2\n",
            "train loss= 0.17892030477523804\n",
            "train_acc for epoch 0.54\n",
            "validation error= 0.17113009452819825\n",
            "val_acc for epoch 0.59375\n",
            "epoch= 3\n",
            "train loss= 0.17811485171318053\n",
            "train_acc for epoch 0.56\n",
            "validation error= 0.17078143905848264\n",
            "val_acc for epoch 0.5975\n",
            "epoch= 4\n",
            "train loss= 0.1774480426311493\n",
            "train_acc for epoch 0.6\n",
            "validation error= 0.17043924473226071\n",
            "val_acc for epoch 0.5875\n",
            "epoch= 5\n",
            "train loss= 0.17682481646537782\n",
            "train_acc for epoch 0.62\n",
            "validation error= 0.17009939454495906\n",
            "val_acc for epoch 0.580625\n",
            "epoch= 6\n",
            "train loss= 0.17621618628501892\n",
            "train_acc for epoch 0.64\n",
            "validation error= 0.16975966803729534\n",
            "val_acc for epoch 0.58375\n",
            "epoch= 7\n",
            "train loss= 0.17561283588409424\n",
            "train_acc for epoch 0.66\n",
            "validation error= 0.16941912699490785\n",
            "val_acc for epoch 0.585\n",
            "epoch= 8\n",
            "train loss= 0.17501189589500427\n",
            "train_acc for epoch 0.66\n",
            "validation error= 0.16907755594700574\n",
            "val_acc for epoch 0.5875\n",
            "epoch= 9\n",
            "train loss= 0.1744126570224762\n",
            "train_acc for epoch 0.66\n",
            "validation error= 0.16873510830104352\n",
            "val_acc for epoch 0.5925\n",
            "epoch= 10\n",
            "train loss= 0.17381517052650453\n",
            "train_acc for epoch 0.66\n",
            "validation error= 0.16839210409671068\n",
            "val_acc for epoch 0.5975\n",
            "epoch= 11\n",
            "train loss= 0.17321974277496338\n",
            "train_acc for epoch 0.68\n",
            "validation error= 0.16804892562329768\n",
            "val_acc for epoch 0.60125\n",
            "epoch= 12\n",
            "train loss= 0.1726267731189728\n",
            "train_acc for epoch 0.74\n",
            "validation error= 0.16770596235990523\n",
            "val_acc for epoch 0.604375\n",
            "epoch= 13\n",
            "train loss= 0.17203662991523744\n",
            "train_acc for epoch 0.74\n",
            "validation error= 0.1673635783046484\n",
            "val_acc for epoch 0.61125\n",
            "epoch= 14\n",
            "train loss= 0.17144964933395385\n",
            "train_acc for epoch 0.74\n",
            "validation error= 0.1670220924168825\n",
            "val_acc for epoch 0.62\n",
            "epoch= 15\n",
            "train loss= 0.1708661413192749\n",
            "train_acc for epoch 0.74\n",
            "validation error= 0.16668178744614123\n",
            "val_acc for epoch 0.625\n",
            "epoch= 16\n",
            "train loss= 0.1702863597869873\n",
            "train_acc for epoch 0.72\n",
            "validation error= 0.16634289801120758\n",
            "val_acc for epoch 0.631875\n",
            "epoch= 17\n",
            "train loss= 0.16971049427986146\n",
            "train_acc for epoch 0.72\n",
            "validation error= 0.16600562121719123\n",
            "val_acc for epoch 0.6375\n",
            "epoch= 18\n",
            "train loss= 0.16913872122764587\n",
            "train_acc for epoch 0.72\n",
            "validation error= 0.16567011673003434\n",
            "val_acc for epoch 0.6425\n",
            "epoch= 19\n",
            "train loss= 0.16857117176055908\n",
            "train_acc for epoch 0.72\n",
            "validation error= 0.1653365136682987\n",
            "val_acc for epoch 0.65\n",
            "epoch= 20\n",
            "train loss= 0.16800792694091796\n",
            "train_acc for epoch 0.72\n",
            "validation error= 0.1650049152597785\n",
            "val_acc for epoch 0.65625\n",
            "epoch= 21\n",
            "train loss= 0.1674490761756897\n",
            "train_acc for epoch 0.74\n",
            "validation error= 0.1646754040569067\n",
            "val_acc for epoch 0.65875\n",
            "epoch= 22\n",
            "train loss= 0.1668946599960327\n",
            "train_acc for epoch 0.74\n",
            "validation error= 0.1643480396643281\n",
            "val_acc for epoch 0.665\n",
            "epoch= 23\n",
            "train loss= 0.166344712972641\n",
            "train_acc for epoch 0.76\n",
            "validation error= 0.16402287065982818\n",
            "val_acc for epoch 0.671875\n",
            "epoch= 24\n",
            "train loss= 0.16579925179481506\n",
            "train_acc for epoch 0.76\n",
            "validation error= 0.16369992956519128\n",
            "val_acc for epoch 0.676875\n",
            "epoch= 25\n",
            "train loss= 0.16525826811790467\n",
            "train_acc for epoch 0.76\n",
            "validation error= 0.16337924160063266\n",
            "val_acc for epoch 0.685\n",
            "epoch= 26\n",
            "train loss= 0.16472176671028138\n",
            "train_acc for epoch 0.78\n",
            "validation error= 0.16306082036346198\n",
            "val_acc for epoch 0.689375\n",
            "epoch= 27\n",
            "train loss= 0.16418973207473755\n",
            "train_acc for epoch 0.78\n",
            "validation error= 0.16274467520415783\n",
            "val_acc for epoch 0.695\n",
            "epoch= 28\n",
            "train loss= 0.1636621391773224\n",
            "train_acc for epoch 0.8\n",
            "validation error= 0.1624308080226183\n",
            "val_acc for epoch 0.69875\n",
            "epoch= 29\n",
            "train loss= 0.1631389629840851\n",
            "train_acc for epoch 0.8\n",
            "validation error= 0.16211921628564596\n",
            "val_acc for epoch 0.700625\n",
            "epoch= 30\n",
            "train loss= 0.16262017130851747\n",
            "train_acc for epoch 0.82\n",
            "validation error= 0.1618098971620202\n",
            "val_acc for epoch 0.7025\n",
            "epoch= 31\n",
            "train loss= 0.16210572361946107\n",
            "train_acc for epoch 0.82\n",
            "validation error= 0.16150283876806498\n",
            "val_acc for epoch 0.705\n",
            "epoch= 32\n",
            "train loss= 0.1615955972671509\n",
            "train_acc for epoch 0.82\n",
            "validation error= 0.1611980326473713\n",
            "val_acc for epoch 0.711875\n",
            "epoch= 33\n",
            "train loss= 0.16108975052833557\n",
            "train_acc for epoch 0.84\n",
            "validation error= 0.1608954643458128\n",
            "val_acc for epoch 0.715\n",
            "epoch= 34\n",
            "train loss= 0.16058812975883485\n",
            "train_acc for epoch 0.84\n",
            "validation error= 0.16059512097388506\n",
            "val_acc for epoch 0.716875\n",
            "epoch= 35\n",
            "train loss= 0.16009070098400116\n",
            "train_acc for epoch 0.84\n",
            "validation error= 0.16029698722064495\n",
            "val_acc for epoch 0.71875\n",
            "epoch= 36\n",
            "train loss= 0.15959743082523345\n",
            "train_acc for epoch 0.84\n",
            "validation error= 0.1600010458752513\n",
            "val_acc for epoch 0.721875\n",
            "epoch= 37\n",
            "train loss= 0.15910825192928313\n",
            "train_acc for epoch 0.84\n",
            "validation error= 0.15970728002488613\n",
            "val_acc for epoch 0.725\n",
            "epoch= 38\n",
            "train loss= 0.15862314462661742\n",
            "train_acc for epoch 0.84\n",
            "validation error= 0.15941567294299602\n",
            "val_acc for epoch 0.726875\n",
            "epoch= 39\n",
            "train loss= 0.1581420511007309\n",
            "train_acc for epoch 0.84\n",
            "validation error= 0.15912620671093464\n",
            "val_acc for epoch 0.730625\n",
            "epoch= 40\n",
            "train loss= 0.1576649409532547\n",
            "train_acc for epoch 0.86\n",
            "validation error= 0.15883886193856597\n",
            "val_acc for epoch 0.7325\n",
            "epoch= 41\n",
            "train loss= 0.1571917563676834\n",
            "train_acc for epoch 0.86\n",
            "validation error= 0.15855362145230173\n",
            "val_acc for epoch 0.734375\n",
            "epoch= 42\n",
            "train loss= 0.15672245860099793\n",
            "train_acc for epoch 0.86\n",
            "validation error= 0.1582704668864608\n",
            "val_acc for epoch 0.73875\n",
            "epoch= 43\n",
            "train loss= 0.15625699758529663\n",
            "train_acc for epoch 0.86\n",
            "validation error= 0.15798937836661936\n",
            "val_acc for epoch 0.741875\n",
            "epoch= 44\n",
            "train loss= 0.1557953429222107\n",
            "train_acc for epoch 0.86\n",
            "validation error= 0.15771033762022854\n",
            "val_acc for epoch 0.74375\n",
            "epoch= 45\n",
            "train loss= 0.155337438583374\n",
            "train_acc for epoch 0.86\n",
            "validation error= 0.15743332602083682\n",
            "val_acc for epoch 0.74625\n",
            "epoch= 46\n",
            "train loss= 0.15488325893878938\n",
            "train_acc for epoch 0.86\n",
            "validation error= 0.1571583263389766\n",
            "val_acc for epoch 0.74875\n",
            "epoch= 47\n",
            "train loss= 0.1544327425956726\n",
            "train_acc for epoch 0.86\n",
            "validation error= 0.15688531808555126\n",
            "val_acc for epoch 0.75\n",
            "epoch= 48\n",
            "train loss= 0.15398585677146912\n",
            "train_acc for epoch 0.86\n",
            "validation error= 0.15661428462713956\n",
            "val_acc for epoch 0.749375\n",
            "epoch= 49\n",
            "train loss= 0.15354256391525267\n",
            "train_acc for epoch 0.86\n",
            "validation error= 0.1563452040590346\n",
            "val_acc for epoch 0.74875\n",
            "Finished Training\n"
          ]
        },
        {
          "output_type": "display_data",
          "data": {
            "text/plain": [
              "<Figure size 432x288 with 1 Axes>"
            ],
            "image/png": "[encoded data removed]"
          },
          "metadata": {
            "needs_background": "light"
          }
        }
      ]
    },
    {
      "cell_type": "code",
      "source": [
        "#accuracy plots\n",
        "plt.plot(train_acc_arr, label='train acc')\n",
        "plt.plot(val_acc_arr, label='validation acc')\n",
        "plt.legend()\n",
        "plt.show()"
      ],
      "metadata": {
        "colab": {
          "base_uri": "https://localhost:8080/",
          "height": 265
        },
        "id": "elwXDwqYoGAP",
        "outputId": "91e7247d-2fef-42a9-b84e-ec118516129a"
      },
      "execution_count": 34,
      "outputs": [
        {
          "output_type": "display_data",
          "data": {
            "text/plain": [
              "<Figure size 432x288 with 1 Axes>"
            ],
            "image/png": "[encoded data removed]"
          },
          "metadata": {
            "needs_background": "light"
          }
        }
      ]
    },
    {
      "cell_type": "code",
      "source": [
        "#testing\n",
        "test_loss=0\n",
        "test_acc=0\n",
        "for inputs, labels in test_dataloader:\n",
        "\n",
        "  pred=model1(inputs)\n",
        "  loss = loss_func(pred, labels.float())\n",
        "  test_loss+= loss.item()\n",
        "  test_acc+=torch.sum(((pred>0)== labels)[:].int()).item()\n",
        "test_loss=test_loss/len(test_dataset)\n",
        "print('test error=',test_loss)\n",
        "test_acc=test_acc/len(test_dataset)\n",
        "print('test_accuracy',test_acc)"
      ],
      "metadata": {
        "colab": {
          "base_uri": "https://localhost:8080/"
        },
        "id": "8MW2GUn5udc5",
        "outputId": "2362d64c-63c0-4169-c9fa-3f2345ab844f"
      },
      "execution_count": 35,
      "outputs": [
        {
          "output_type": "stream",
          "name": "stdout",
          "text": [
            "test error= 0.15559787219762802\n",
            "test_accuracy 0.743\n"
          ]
        }
      ]
    },
    {
      "cell_type": "code",
      "source": [
        "torch.save(model1.state_dict(), 'overfit model baseline.pt')"
      ],
      "metadata": {
        "id": "mtTUz50Gwkro"
      },
      "execution_count": null,
      "outputs": []
    },
    {
      "cell_type": "markdown",
      "source": [
        "# training baseline with train dataset"
      ],
      "metadata": {
        "id": "gOQbAYLRpoL-"
      }
    },
    {
      "cell_type": "code",
      "source": [
        "model1=BaselineModel(glove)"
      ],
      "metadata": {
        "id": "DUf5QmRzwHG7"
      },
      "execution_count": null,
      "outputs": []
    },
    {
      "cell_type": "code",
      "source": [
        "loss_func = torch.nn.BCEWithLogitsLoss()\n",
        "optimizer = optim.Adam(model1.parameters(), lr=0.001)\n",
        "train_losses=[]\n",
        "val_losses=[]\n",
        "train_acc_arr=[]\n",
        "val_acc_arr=[]"
      ],
      "metadata": {
        "id": "XPe9DxFmxKT3"
      },
      "execution_count": null,
      "outputs": []
    },
    {
      "cell_type": "code",
      "source": [
        "for epoch in range(50):  # loop over the dataset multiple times\n",
        "\n",
        "    train_loss = 0.0\n",
        "    val_loss=0\n",
        "    train_acc=0\n",
        "    val_acc=0\n",
        "    model1.train()\n",
        "    print('epoch=', epoch)\n",
        "    \n",
        "    for inputs, labels in train_dataloader:\n",
        "        # get the inputs; data is a list of [inputs, labels]\n",
        "        #inputs, labels = data\n",
        "\n",
        "        # zero the parameter gradients\n",
        "        optimizer.zero_grad()\n",
        "\n",
        "        # forward + backward + optimize\n",
        "        outputs = model1(inputs)\n",
        "        #print(outputs)\n",
        "        #print(labels)\n",
        "        loss = loss_func(outputs, labels.float())\n",
        "        loss.backward()\n",
        "        optimizer.step()\n",
        "\n",
        "        train_loss+= loss.item()\n",
        "        train_acc+=torch.sum(((outputs>0)== labels)[:].int()).item()\n",
        "    train_loss=train_loss/len(train_dataset)\n",
        "    train_losses.append(train_loss)\n",
        "    print('train loss=',train_loss)\n",
        "    train_acc=train_acc/len(train_dataset)\n",
        "    train_acc_arr.append(train_acc)\n",
        "    print('train_acc',train_acc)\n",
        "\n",
        "\n",
        "    model1.eval()\n",
        "    for inputs, labels in validation_dataloader:\n",
        "\n",
        "      pred=model1(inputs)\n",
        "      loss = loss_func(pred, labels.float())\n",
        "      val_loss+= loss.item()\n",
        "      val_acc+=torch.sum(((pred>0)== labels)[:].int()).item()\n",
        "    val_loss=val_loss/len(val_dataset)\n",
        "    val_losses.append(val_loss)\n",
        "    print('validation error=',val_loss)\n",
        "    val_acc=val_acc/len(val_dataset)\n",
        "    val_acc_arr.append(val_acc)\n",
        "    print('val_acc for epoch',val_acc)\n",
        "\n",
        "\n",
        "print('Finished Training')\n",
        "plt.plot(train_losses, label='train loss')\n",
        "plt.plot(val_losses, label='validation loss')\n",
        "plt.legend()\n",
        "plt.show()"
      ],
      "metadata": {
        "colab": {
          "base_uri": "https://localhost:8080/",
          "height": 1000
        },
        "id": "xe1_Fp-b4osJ",
        "outputId": "590c8467-413a-453b-b681-bc9933a96a46"
      },
      "execution_count": null,
      "outputs": [
        {
          "output_type": "stream",
          "name": "stdout",
          "text": [
            "epoch= 0\n",
            "train loss= 0.14943992911372334\n",
            "train_acc 0.7753125\n",
            "validation error= 0.13392655931413175\n",
            "val_acc for epoch 0.841875\n",
            "epoch= 1\n",
            "train loss= 0.1215666953008622\n",
            "train_acc 0.85484375\n",
            "validation error= 0.11558242392726242\n",
            "val_acc for epoch 0.850625\n",
            "epoch= 2\n",
            "train loss= 0.10722795274108649\n",
            "train_acc 0.86296875\n",
            "validation error= 0.1053995705768466\n",
            "val_acc for epoch 0.854375\n",
            "epoch= 3\n",
            "train loss= 0.09868816045927815\n",
            "train_acc 0.8684375\n",
            "validation error= 0.09907167823286728\n",
            "val_acc for epoch 0.858125\n",
            "epoch= 4\n",
            "train loss= 0.09305756079556886\n",
            "train_acc 0.87140625\n",
            "validation error= 0.0948055042582564\n",
            "val_acc for epoch 0.859375\n",
            "epoch= 5\n",
            "train loss= 0.08906112083757761\n",
            "train_acc 0.8734375\n",
            "validation error= 0.09174836033722386\n",
            "val_acc for epoch 0.863125\n",
            "epoch= 6\n",
            "train loss= 0.08606440259085503\n",
            "train_acc 0.87484375\n",
            "validation error= 0.08945376111427322\n",
            "val_acc for epoch 0.864375\n",
            "epoch= 7\n",
            "train loss= 0.08372219369455706\n",
            "train_acc 0.8771875\n",
            "validation error= 0.08766910371603444\n",
            "val_acc for epoch 0.86625\n",
            "epoch= 8\n",
            "train loss= 0.08183238046156475\n",
            "train_acc 0.87859375\n",
            "validation error= 0.08624184900196269\n",
            "val_acc for epoch 0.86875\n",
            "epoch= 9\n",
            "train loss= 0.08026918954768916\n",
            "train_acc 0.88140625\n",
            "validation error= 0.08507476698025129\n",
            "val_acc for epoch 0.86875\n",
            "epoch= 10\n",
            "train loss= 0.07895024222758366\n",
            "train_acc 0.88265625\n",
            "validation error= 0.08410294102621264\n",
            "val_acc for epoch 0.869375\n",
            "epoch= 11\n",
            "train loss= 0.07781923625385388\n",
            "train_acc 0.88328125\n",
            "validation error= 0.08328139545104932\n",
            "val_acc for epoch 0.869375\n",
            "epoch= 12\n",
            "train loss= 0.076836293914821\n",
            "train_acc 0.88484375\n",
            "validation error= 0.08257797777943779\n",
            "val_acc for epoch 0.8675\n",
            "epoch= 13\n",
            "train loss= 0.075972323983151\n",
            "train_acc 0.8859375\n",
            "validation error= 0.08196906885248609\n",
            "val_acc for epoch 0.868125\n",
            "epoch= 14\n",
            "train loss= 0.07520556865201797\n",
            "train_acc 0.88609375\n",
            "validation error= 0.08143694076046813\n",
            "val_acc for epoch 0.868125\n",
            "epoch= 15\n",
            "train loss= 0.07451940291706706\n",
            "train_acc 0.8878125\n",
            "validation error= 0.08096802191343158\n",
            "val_acc for epoch 0.8675\n",
            "epoch= 16\n",
            "train loss= 0.07390088862535776\n",
            "train_acc 0.88875\n",
            "validation error= 0.08055176490684972\n",
            "val_acc for epoch 0.8675\n",
            "epoch= 17\n",
            "train loss= 0.07333978594921063\n",
            "train_acc 0.8890625\n",
            "validation error= 0.08017983555677347\n",
            "val_acc for epoch 0.8675\n",
            "epoch= 18\n",
            "train loss= 0.07282787556949188\n",
            "train_acc 0.8896875\n",
            "validation error= 0.07984556738490937\n",
            "val_acc for epoch 0.8675\n",
            "epoch= 19\n",
            "train loss= 0.07235849736825913\n",
            "train_acc 0.8896875\n",
            "validation error= 0.07954357291717315\n",
            "val_acc for epoch 0.8675\n",
            "epoch= 20\n",
            "train loss= 0.07192617522829096\n",
            "train_acc 0.89015625\n",
            "validation error= 0.07926943682337878\n",
            "val_acc for epoch 0.8675\n",
            "epoch= 21\n",
            "train loss= 0.07152636232232908\n",
            "train_acc 0.89078125\n",
            "validation error= 0.07901953283697366\n",
            "val_acc for epoch 0.8675\n",
            "epoch= 22\n",
            "train loss= 0.0711552544029837\n",
            "train_acc 0.89125\n",
            "validation error= 0.07879082777159056\n",
            "val_acc for epoch 0.868125\n",
            "epoch= 23\n",
            "train loss= 0.07080963823915226\n",
            "train_acc 0.89140625\n",
            "validation error= 0.0785807768785162\n",
            "val_acc for epoch 0.868125\n",
            "epoch= 24\n",
            "train loss= 0.07048677906685043\n",
            "train_acc 0.89171875\n",
            "validation error= 0.07838723181921523\n",
            "val_acc for epoch 0.86875\n",
            "epoch= 25\n",
            "train loss= 0.0701843402479426\n",
            "train_acc 0.8921875\n",
            "validation error= 0.0782083671647706\n",
            "val_acc for epoch 0.86875\n",
            "epoch= 26\n",
            "train loss= 0.06990030464687153\n",
            "train_acc 0.8925\n",
            "validation error= 0.07804261669807602\n",
            "val_acc for epoch 0.869375\n",
            "epoch= 27\n",
            "train loss= 0.06963292185173486\n",
            "train_acc 0.89234375\n",
            "validation error= 0.07788863126334036\n",
            "val_acc for epoch 0.869375\n",
            "epoch= 28\n",
            "train loss= 0.069380661991745\n",
            "train_acc 0.89296875\n",
            "validation error= 0.077745235824259\n",
            "val_acc for epoch 0.869375\n",
            "epoch= 29\n",
            "train loss= 0.06914218896214151\n",
            "train_acc 0.8934375\n",
            "validation error= 0.07761141165392474\n",
            "val_acc for epoch 0.869375\n",
            "epoch= 30\n",
            "train loss= 0.06891633085564536\n",
            "train_acc 0.89359375\n",
            "validation error= 0.07748628003319027\n",
            "val_acc for epoch 0.869375\n",
            "epoch= 31\n",
            "train loss= 0.06870203895421582\n",
            "train_acc 0.89390625\n",
            "validation error= 0.07736904208402848\n",
            "val_acc for epoch 0.87\n",
            "epoch= 32\n",
            "train loss= 0.06849838862959587\n",
            "train_acc 0.89453125\n",
            "validation error= 0.07725902939157095\n",
            "val_acc for epoch 0.87\n",
            "epoch= 33\n",
            "train loss= 0.06830455840383365\n",
            "train_acc 0.895\n",
            "validation error= 0.077155613211944\n",
            "val_acc for epoch 0.870625\n",
            "epoch= 34\n",
            "train loss= 0.06811980677390238\n",
            "train_acc 0.8953125\n",
            "validation error= 0.07705825251177885\n",
            "val_acc for epoch 0.871875\n",
            "epoch= 35\n",
            "train loss= 0.06794347512273817\n",
            "train_acc 0.8959375\n",
            "validation error= 0.07696646299096756\n",
            "val_acc for epoch 0.8725\n",
            "epoch= 36\n",
            "train loss= 0.0677749647249584\n",
            "train_acc 0.89640625\n",
            "validation error= 0.07687980264046929\n",
            "val_acc for epoch 0.875\n",
            "epoch= 37\n",
            "train loss= 0.06761373404660845\n",
            "train_acc 0.89640625\n",
            "validation error= 0.07679788401030237\n",
            "val_acc for epoch 0.875\n",
            "epoch= 38\n",
            "train loss= 0.06745929347693164\n",
            "train_acc 0.896875\n",
            "validation error= 0.07672036630901857\n",
            "val_acc for epoch 0.875\n",
            "epoch= 39\n",
            "train loss= 0.0673112000564288\n",
            "train_acc 0.8975\n",
            "validation error= 0.07664692652600934\n",
            "val_acc for epoch 0.874375\n",
            "epoch= 40\n",
            "train loss= 0.06716905193206912\n",
            "train_acc 0.8971875\n",
            "validation error= 0.07657728215868702\n",
            "val_acc for epoch 0.87375\n",
            "epoch= 41\n",
            "train loss= 0.06703247694968013\n",
            "train_acc 0.89765625\n",
            "validation error= 0.07651115996064618\n",
            "val_acc for epoch 0.874375\n",
            "epoch= 42\n",
            "train loss= 0.06690113854296215\n",
            "train_acc 0.89734375\n",
            "validation error= 0.07644832070480334\n",
            "val_acc for epoch 0.875\n",
            "epoch= 43\n",
            "train loss= 0.0667747279197647\n",
            "train_acc 0.8971875\n",
            "validation error= 0.07638856260935427\n",
            "val_acc for epoch 0.875\n",
            "epoch= 44\n",
            "train loss= 0.06665295698629052\n",
            "train_acc 0.89765625\n",
            "validation error= 0.0763316775362182\n",
            "val_acc for epoch 0.874375\n",
            "epoch= 45\n",
            "train loss= 0.06653556337507326\n",
            "train_acc 0.89703125\n",
            "validation error= 0.0762774885375984\n",
            "val_acc for epoch 0.875\n",
            "epoch= 46\n",
            "train loss= 0.06642230445919267\n",
            "train_acc 0.8971875\n",
            "validation error= 0.0762258320809633\n",
            "val_acc for epoch 0.875\n",
            "epoch= 47\n",
            "train loss= 0.06631295979343121\n",
            "train_acc 0.8971875\n",
            "validation error= 0.07617655016685604\n",
            "val_acc for epoch 0.875625\n",
            "epoch= 48\n",
            "train loss= 0.06620731815310137\n",
            "train_acc 0.89734375\n",
            "validation error= 0.0761295010667527\n",
            "val_acc for epoch 0.875625\n",
            "epoch= 49\n",
            "train loss= 0.06610519221685536\n",
            "train_acc 0.89734375\n",
            "validation error= 0.0760845609063108\n",
            "val_acc for epoch 0.875625\n",
            "Finished Training\n"
          ]
        },
        {
          "output_type": "display_data",
          "data": {
            "text/plain": [
              "<Figure size 432x288 with 1 Axes>"
            ],
            "image/png": "[encoded data removed]"
          },
          "metadata": {
            "needs_background": "light"
          }
        }
      ]
    },
    {
      "cell_type": "code",
      "source": [
        "plt.plot(train_acc_arr, label='train acc')\n",
        "plt.plot(val_acc_arr, label='validation acc')\n",
        "plt.legend()\n",
        "plt.show()"
      ],
      "metadata": {
        "colab": {
          "base_uri": "https://localhost:8080/",
          "height": 265
        },
        "id": "HwALWDa72kTU",
        "outputId": "a991fedd-395d-4fe7-fd11-ced74146739d"
      },
      "execution_count": null,
      "outputs": [
        {
          "output_type": "display_data",
          "data": {
            "text/plain": [
              "<Figure size 432x288 with 1 Axes>"
            ],
            "image/png": "[encoded data removed]"
          },
          "metadata": {
            "needs_background": "light"
          }
        }
      ]
    },
    {
      "cell_type": "code",
      "source": [
        "test_loss=0\n",
        "test_acc=0\n",
        "for inputs, labels in test_dataloader:\n",
        "\n",
        "  pred=model1(inputs)\n",
        "  loss = loss_func(pred, labels.float())\n",
        "  test_loss+= loss.item()\n",
        "  test_acc+=torch.sum(((pred>0)== labels)[:].int()).item()\n",
        "test_loss=test_loss/len(test_dataset)\n",
        "print('test error=',test_loss)\n",
        "test_acc=test_acc/len(test_dataset)\n",
        "print('test_accuracy',test_acc)"
      ],
      "metadata": {
        "colab": {
          "base_uri": "https://localhost:8080/"
        },
        "id": "cNKoRgSTGRXh",
        "outputId": "4d3eec25-6f70-4643-c1b7-d974278cf449"
      },
      "execution_count": null,
      "outputs": [
        {
          "output_type": "stream",
          "name": "stdout",
          "text": [
            "test error= 0.06724662682181225\n",
            "test_accuracy 0.9005\n"
          ]
        }
      ]
    },
    {
      "cell_type": "code",
      "source": [
        "torch.save(model1.state_dict(), 'model baseline.pt')"
      ],
      "metadata": {
        "id": "NckXNjOb4sZ5"
      },
      "execution_count": null,
      "outputs": []
    },
    {
      "cell_type": "markdown",
      "source": [
        "# extracting meaning from parameters"
      ],
      "metadata": {
        "id": "bcOd_aKipzaQ"
      }
    },
    {
      "cell_type": "code",
      "source": [
        "model = BaselineModel(glove)\n",
        "model.load_state_dict(torch.load('/content/model baseline.pt'))\n",
        "model.eval()"
      ],
      "metadata": {
        "colab": {
          "base_uri": "https://localhost:8080/"
        },
        "id": "pz5XTzHsvxgn",
        "outputId": "20c6d72d-aed9-4abe-ffc9-e481a362edcd"
      },
      "execution_count": null,
      "outputs": [
        {
          "output_type": "execute_result",
          "data": {
            "text/plain": [
              "BaselineModel(\n",
              "  (embedding): Embedding(400000, 100)\n",
              "  (out): Linear(in_features=100, out_features=1, bias=True)\n",
              ")"
            ]
          },
          "metadata": {},
          "execution_count": 7
        }
      ]
    },
    {
      "cell_type": "code",
      "source": [
        "def print_closest_cosine_words(vec, n=5):\n",
        "  dists = torch.cosine_similarity(glove.vectors.unsqueeze(0), vec.unsqueeze(0), dim=2).squeeze()\n",
        "  dist_sort=torch.argsort(dists,descending=True)\n",
        "  for idx in dist_sort[1:n+1]:\n",
        "    print(glove.itos[idx], \"\\t%5.2f\" % dists[idx])"
      ],
      "metadata": {
        "id": "xvns94ijreug"
      },
      "execution_count": null,
      "outputs": []
    },
    {
      "cell_type": "code",
      "source": [
        "model.out.weight.squeeze()"
      ],
      "metadata": {
        "colab": {
          "base_uri": "https://localhost:8080/"
        },
        "id": "KNhohluwsDaQ",
        "outputId": "5b05216f-3729-4b88-c09d-a3a510577a55"
      },
      "execution_count": null,
      "outputs": [
        {
          "output_type": "execute_result",
          "data": {
            "text/plain": [
              "tensor([-2.7072e+00,  2.1354e+00,  7.7290e-01, -4.3207e-01, -2.5790e+00,\n",
              "        -4.8087e-01, -1.5702e-01, -7.6742e-01, -4.3039e-01,  9.2636e-02,\n",
              "         2.3552e-01, -1.9167e+00, -2.6446e+00, -6.4450e+00,  2.6522e+00,\n",
              "         1.8428e+00, -3.2117e+00,  9.4824e-01,  4.3358e+00,  1.9550e+00,\n",
              "         1.5205e+00,  1.4541e+00, -1.2447e+00, -3.3539e+00,  1.7275e+00,\n",
              "        -8.7081e-01, -2.1097e+00,  1.5374e+00, -1.6274e+00, -5.2319e+00,\n",
              "         3.2859e+00, -1.3128e-01,  7.8117e-01, -4.8416e-01,  4.9465e-01,\n",
              "         3.1623e+00,  2.2069e+00,  1.0522e+00, -2.5236e+00,  9.6323e-01,\n",
              "         2.3934e+00,  3.4624e-01, -2.9854e+00,  2.1311e+00,  4.1521e-01,\n",
              "        -3.1147e-01,  2.7021e+00, -1.8836e+00, -2.7530e+00, -1.6420e+00,\n",
              "         2.0561e+00, -1.9593e+00,  3.0713e-01, -5.6122e-01, -1.2240e+00,\n",
              "        -1.4864e-01,  1.4383e+00,  4.8924e-01,  3.1374e-01, -2.0148e+00,\n",
              "        -1.9508e-01,  9.4889e-01,  7.7430e-02,  1.6233e+00, -3.0609e-01,\n",
              "        -3.6448e+00,  3.6659e-01,  1.2343e-01, -3.3237e+00, -1.0667e+00,\n",
              "         4.8691e+00,  1.7135e+00,  3.6189e+00,  2.3390e+00,  6.2971e-03,\n",
              "         1.4703e-01, -1.3454e+00,  1.6114e+00,  7.1642e-01, -1.9348e+00,\n",
              "        -1.0424e+00, -1.6970e+00, -2.3030e-01,  1.2281e+00, -6.5974e-01,\n",
              "         1.4719e+00,  3.9113e-01,  3.8667e-01,  1.2902e-01, -5.5236e-01,\n",
              "         1.5541e+00,  7.5524e-01, -3.8046e+00, -1.7628e-01,  1.9343e-01,\n",
              "         9.4067e-01,  2.2317e-01, -8.7816e-01, -7.1514e-01,  3.7578e+00],\n",
              "       grad_fn=<SqueezeBackward0>)"
            ]
          },
          "metadata": {},
          "execution_count": 11
        }
      ]
    },
    {
      "cell_type": "code",
      "source": [
        "print_closest_cosine_words(model.out.weight.squeeze(),20)"
      ],
      "metadata": {
        "colab": {
          "base_uri": "https://localhost:8080/"
        },
        "id": "uUUQPGHusLPT",
        "outputId": "60556306-6c7c-4b6e-c01a-1af0bedbd542"
      },
      "execution_count": null,
      "outputs": [
        {
          "output_type": "stream",
          "name": "stdout",
          "text": [
            "flattering \t 0.53\n",
            "pleasing \t 0.52\n",
            "watchable \t 0.52\n",
            "campy \t 0.51\n",
            "underwhelming \t 0.51\n",
            "verbiage \t 0.51\n",
            "emptier \t 0.49\n",
            "simplistic \t 0.49\n",
            "appetizing \t 0.49\n",
            "funnily \t 0.49\n",
            "laughable \t 0.48\n",
            "tepid \t 0.48\n",
            "visuals \t 0.48\n",
            "goofier \t 0.48\n",
            "mesmerizing \t 0.48\n",
            "nuanced \t 0.48\n",
            "laudatory \t 0.47\n",
            "glib \t 0.47\n",
            "befuddling \t 0.47\n",
            "forgettable \t 0.47\n"
          ]
        }
      ]
    }
  ],
  "metadata": {
    "kernelspec": {
      "display_name": "Python 3",
      "language": "python",
      "name": "python3"
    },
    "language_info": {
      "codemirror_mode": {
        "name": "ipython",
        "version": 3
      },
      "file_extension": ".py",
      "mimetype": "text/x-python",
      "name": "python",
      "nbconvert_exporter": "python",
      "pygments_lexer": "ipython3",
      "version": "3.6.4"
    },
    "colab": {
      "provenance": [],
      "collapsed_sections": []
    }
  },
  "nbformat": 4,
  "nbformat_minor": 0
}