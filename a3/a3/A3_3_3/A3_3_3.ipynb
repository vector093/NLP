{
  "nbformat": 4,
  "nbformat_minor": 0,
  "metadata": {
    "colab": {
      "provenance": [],
      "collapsed_sections": []
    },
    "kernelspec": {
      "name": "python3",
      "display_name": "Python 3"
    },
    "language_info": {
      "name": "python"
    },
    "accelerator": "GPU"
  },
  "cells": [
    {
      "cell_type": "code",
      "execution_count": 1,
      "metadata": {
        "colab": {
          "base_uri": "https://localhost:8080/"
        },
        "id": "ncrEu8Wf0jyS",
        "outputId": "63d70677-dd75-4058-f06b-2432f925c820"
      },
      "outputs": [
        {
          "output_type": "stream",
          "name": "stdout",
          "text": [
            "Looking in indexes: https://pypi.org/simple, https://us-python.pkg.dev/colab-wheels/public/simple/\n",
            "Requirement already satisfied: datasets in /usr/local/lib/python3.7/dist-packages (2.6.1)\n",
            "Requirement already satisfied: xxhash in /usr/local/lib/python3.7/dist-packages (from datasets) (3.1.0)\n",
            "Requirement already satisfied: importlib-metadata in /usr/local/lib/python3.7/dist-packages (from datasets) (4.13.0)\n",
            "Requirement already satisfied: tqdm>=4.62.1 in /usr/local/lib/python3.7/dist-packages (from datasets) (4.64.1)\n",
            "Requirement already satisfied: fsspec[http]>=2021.11.1 in /usr/local/lib/python3.7/dist-packages (from datasets) (2022.8.2)\n",
            "Requirement already satisfied: huggingface-hub<1.0.0,>=0.2.0 in /usr/local/lib/python3.7/dist-packages (from datasets) (0.10.1)\n",
            "Requirement already satisfied: multiprocess in /usr/local/lib/python3.7/dist-packages (from datasets) (0.70.13)\n",
            "Requirement already satisfied: responses<0.19 in /usr/local/lib/python3.7/dist-packages (from datasets) (0.18.0)\n",
            "Requirement already satisfied: requests>=2.19.0 in /usr/local/lib/python3.7/dist-packages (from datasets) (2.23.0)\n",
            "Requirement already satisfied: numpy>=1.17 in /usr/local/lib/python3.7/dist-packages (from datasets) (1.21.6)\n",
            "Requirement already satisfied: pyyaml>=5.1 in /usr/local/lib/python3.7/dist-packages (from datasets) (6.0)\n",
            "Requirement already satisfied: packaging in /usr/local/lib/python3.7/dist-packages (from datasets) (21.3)\n",
            "Requirement already satisfied: dill<0.3.6 in /usr/local/lib/python3.7/dist-packages (from datasets) (0.3.5.1)\n",
            "Requirement already satisfied: pyarrow>=6.0.0 in /usr/local/lib/python3.7/dist-packages (from datasets) (6.0.1)\n",
            "Requirement already satisfied: aiohttp in /usr/local/lib/python3.7/dist-packages (from datasets) (3.8.3)\n",
            "Requirement already satisfied: pandas in /usr/local/lib/python3.7/dist-packages (from datasets) (1.3.5)\n",
            "Requirement already satisfied: aiosignal>=1.1.2 in /usr/local/lib/python3.7/dist-packages (from aiohttp->datasets) (1.2.0)\n",
            "Requirement already satisfied: frozenlist>=1.1.1 in /usr/local/lib/python3.7/dist-packages (from aiohttp->datasets) (1.3.1)\n",
            "Requirement already satisfied: asynctest==0.13.0 in /usr/local/lib/python3.7/dist-packages (from aiohttp->datasets) (0.13.0)\n",
            "Requirement already satisfied: charset-normalizer<3.0,>=2.0 in /usr/local/lib/python3.7/dist-packages (from aiohttp->datasets) (2.1.1)\n",
            "Requirement already satisfied: attrs>=17.3.0 in /usr/local/lib/python3.7/dist-packages (from aiohttp->datasets) (22.1.0)\n",
            "Requirement already satisfied: typing-extensions>=3.7.4 in /usr/local/lib/python3.7/dist-packages (from aiohttp->datasets) (4.1.1)\n",
            "Requirement already satisfied: async-timeout<5.0,>=4.0.0a3 in /usr/local/lib/python3.7/dist-packages (from aiohttp->datasets) (4.0.2)\n",
            "Requirement already satisfied: yarl<2.0,>=1.0 in /usr/local/lib/python3.7/dist-packages (from aiohttp->datasets) (1.8.1)\n",
            "Requirement already satisfied: multidict<7.0,>=4.5 in /usr/local/lib/python3.7/dist-packages (from aiohttp->datasets) (6.0.2)\n",
            "Requirement already satisfied: filelock in /usr/local/lib/python3.7/dist-packages (from huggingface-hub<1.0.0,>=0.2.0->datasets) (3.8.0)\n",
            "Requirement already satisfied: pyparsing!=3.0.5,>=2.0.2 in /usr/local/lib/python3.7/dist-packages (from packaging->datasets) (3.0.9)\n",
            "Requirement already satisfied: chardet<4,>=3.0.2 in /usr/local/lib/python3.7/dist-packages (from requests>=2.19.0->datasets) (3.0.4)\n",
            "Requirement already satisfied: certifi>=2017.4.17 in /usr/local/lib/python3.7/dist-packages (from requests>=2.19.0->datasets) (2022.9.24)\n",
            "Requirement already satisfied: idna<3,>=2.5 in /usr/local/lib/python3.7/dist-packages (from requests>=2.19.0->datasets) (2.10)\n",
            "Requirement already satisfied: urllib3!=1.25.0,!=1.25.1,<1.26,>=1.21.1 in /usr/local/lib/python3.7/dist-packages (from requests>=2.19.0->datasets) (1.25.11)\n",
            "Requirement already satisfied: zipp>=0.5 in /usr/local/lib/python3.7/dist-packages (from importlib-metadata->datasets) (3.9.0)\n",
            "Requirement already satisfied: pytz>=2017.3 in /usr/local/lib/python3.7/dist-packages (from pandas->datasets) (2022.4)\n",
            "Requirement already satisfied: python-dateutil>=2.7.3 in /usr/local/lib/python3.7/dist-packages (from pandas->datasets) (2.8.2)\n",
            "Requirement already satisfied: six>=1.5 in /usr/local/lib/python3.7/dist-packages (from python-dateutil>=2.7.3->pandas->datasets) (1.15.0)\n"
          ]
        }
      ],
      "source": [
        "!pip install datasets"
      ]
    },
    {
      "cell_type": "code",
      "source": [
        "# The code below is needed for using Google Colab, so un comment this if that is what you're using \n",
        "import nltk\n",
        "nltk.download('punkt')"
      ],
      "metadata": {
        "colab": {
          "base_uri": "https://localhost:8080/"
        },
        "id": "wMw0Pyxc08-p",
        "outputId": "192647db-1313-4055-ff11-574514e60e2f"
      },
      "execution_count": 2,
      "outputs": [
        {
          "output_type": "stream",
          "name": "stderr",
          "text": [
            "[nltk_data] Downloading package punkt to /root/nltk_data...\n",
            "[nltk_data]   Package punkt is already up-to-date!\n"
          ]
        },
        {
          "output_type": "execute_result",
          "data": {
            "text/plain": [
              "True"
            ]
          },
          "metadata": {},
          "execution_count": 2
        }
      ]
    },
    {
      "cell_type": "code",
      "source": [
        "from google.colab import drive\n",
        "drive.mount('/content/drive')\n",
        "%cd /content/drive/MyDrive/Colab\\ Notebooks/"
      ],
      "metadata": {
        "colab": {
          "base_uri": "https://localhost:8080/"
        },
        "id": "pId0SjJO1DC0",
        "outputId": "7102d749-fe0c-4953-98e8-08756be09fdc"
      },
      "execution_count": 3,
      "outputs": [
        {
          "output_type": "stream",
          "name": "stdout",
          "text": [
            "Drive already mounted at /content/drive; to attempt to forcibly remount, call drive.mount(\"/content/drive\", force_remount=True).\n",
            "/content/drive/MyDrive/Colab Notebooks\n"
          ]
        }
      ]
    },
    {
      "cell_type": "code",
      "source": [
        "import torch \n",
        "import numpy as np\n",
        "import matplotlib.pyplot as plt\n",
        "\n",
        "\n",
        "from nltk.tokenize import sent_tokenize \n",
        "\n",
        "from pathlib import Path \n",
        "from sklearn.model_selection import train_test_split\n",
        "from torch.utils.data import Dataset\n",
        "from torch.utils.data.dataloader import DataLoader\n",
        "from mingpt.bpe import BPETokenizer \n",
        "from mingpt.utils import set_seed \n",
        "set_seed(1234)"
      ],
      "metadata": {
        "id": "GGfpZymA1QY1"
      },
      "execution_count": 4,
      "outputs": []
    },
    {
      "cell_type": "code",
      "source": [
        "import datasets\n",
        "sst = datasets.load_dataset('glue','sst2', split=\"train[:1200]\")"
      ],
      "metadata": {
        "colab": {
          "base_uri": "https://localhost:8080/"
        },
        "id": "Xz8CUK8M1SUs",
        "outputId": "e6276bd5-8ca9-4f12-f6ef-d735d214d1bd"
      },
      "execution_count": 5,
      "outputs": [
        {
          "output_type": "stream",
          "name": "stderr",
          "text": [
            "WARNING:datasets.builder:Found cached dataset glue (/root/.cache/huggingface/datasets/glue/sst2/1.0.0/dacbe3125aa31d7f70367a07a8a9e72a5a0bfeb5fc42e75c9db75b96da6053ad)\n"
          ]
        }
      ]
    },
    {
      "cell_type": "code",
      "source": [
        "train, val = train_test_split(sst, test_size=0.2, stratify=sst[\"label\"])"
      ],
      "metadata": {
        "id": "8Ah_f-8R1asK"
      },
      "execution_count": 6,
      "outputs": []
    },
    {
      "cell_type": "code",
      "source": [
        "# print number of sentence pairs in train and validation\n",
        "print(len(train['sentence']))\n",
        "print(len(val['sentence']))"
      ],
      "metadata": {
        "colab": {
          "base_uri": "https://localhost:8080/"
        },
        "id": "KpJ-WqPtLriD",
        "outputId": "8f5b0381-0137-4743-bffa-4c5eb3f2cb89"
      },
      "execution_count": 7,
      "outputs": [
        {
          "output_type": "stream",
          "name": "stdout",
          "text": [
            "960\n",
            "240\n"
          ]
        }
      ]
    },
    {
      "cell_type": "code",
      "source": [
        "# check the distribution of labels in train and validation\n",
        "array = np.array(train['label'])\n",
        "unique, counts = np.unique(array, return_counts=True)\n",
        "print(unique, counts)\n",
        "\n",
        "\n",
        "array = np.array(val['label'])\n",
        "unique, counts = np.unique(array, return_counts=True)\n",
        "print(unique, counts)\n"
      ],
      "metadata": {
        "colab": {
          "base_uri": "https://localhost:8080/"
        },
        "id": "q8ZbRL-BMgaK",
        "outputId": "0cf717b4-f343-4ca8-9327-fb668b7b1f0b"
      },
      "execution_count": 8,
      "outputs": [
        {
          "output_type": "stream",
          "name": "stdout",
          "text": [
            "[0 1] [435 525]\n",
            "[0 1] [109 131]\n"
          ]
        }
      ]
    },
    {
      "cell_type": "code",
      "source": [
        "class ModelData(Dataset):\n",
        "    \n",
        "    def __init__(self, sentence, label, truncation=-1):\n",
        "    # Tokenize\n",
        "        self.tokenizer = BPETokenizer()\n",
        "        self.data = []  # List of 1-d pytorch tensor\n",
        "        for sent in sentence:\n",
        "            tokenized = self.tokenizer(sent).view(-1)  # pytorch tensor\n",
        "            if truncation >= 0:\n",
        "                self.data.append(tokenized[:truncation])\n",
        "            else:\n",
        "                self.data.append(tokenized)\n",
        "\n",
        "        self.label = torch.tensor(label)\n",
        "\n",
        "        # Count some items\n",
        "        self.max_sentence_length = np.max([len(d) for d in self.data])\n",
        "\n",
        "    def __len__(self):\n",
        "        return len(self.data)\n",
        "\n",
        "    def get_vocab_size(self):\n",
        "        \"\"\"\n",
        "        We have to set this to the max vocab size (i.e., that decided by the BPE tokenizer), \n",
        "        but actually, only a small number of vocab is used, especially for the small text. \n",
        "        \"\"\"\n",
        "        return 50257\n",
        "\n",
        "    def __getitem__(self, idx):\n",
        "        \"\"\"\n",
        "        The output should be a tuple x and y, both as pytorch tensors.\n",
        "        Please refer to the `run()` method in the mingpt/trainer.py script for \n",
        "        how the x and y are going to be used.\n",
        "        \"\"\"\n",
        "        x = self.data[idx]\n",
        "        y = self.label[idx]\n",
        "        return (x, y)\n",
        "\n",
        "    def get_block_size(self):\n",
        "        \"\"\"\n",
        "        block_size is the size at which lines are truncated to ensure they are equal-length.\n",
        "        \"\"\"\n",
        "        return self.max_sentence_length\n",
        "    \n",
        "# Instantiate the Training Dataset\n",
        "train_dataset = ModelData(train['sentence'], train['label'], truncation=-1)\n",
        "\n",
        "# Instantiate a Validation Dataset (this is only really needed for the fine-tune task, not the LM task)\n",
        "val_dataset = ModelData(val['sentence'], val['label'], truncation=-1)"
      ],
      "metadata": {
        "id": "uWbT34zA5UsO"
      },
      "execution_count": 9,
      "outputs": []
    },
    {
      "cell_type": "code",
      "source": [
        "x,y = train_dataset[5]\n",
        "print(x,y)\n",
        "print(\"X: \",train_dataset.tokenizer.decode(x))\n",
        "print(\"Y: \",y)"
      ],
      "metadata": {
        "colab": {
          "base_uri": "https://localhost:8080/"
        },
        "id": "ErZKDY_sH6yB",
        "outputId": "23a86f02-2559-48ca-e23f-4fe852a9492d"
      },
      "execution_count": 10,
      "outputs": [
        {
          "output_type": "stream",
          "name": "stdout",
          "text": [
            "tensor([ 1018,   306,   355,   262,   427, 42457,  4875, 16223,   220]) tensor(0)\n",
            "X:  ugly as the shabby digital photography \n",
            "Y:  tensor(0)\n"
          ]
        }
      ]
    },
    {
      "cell_type": "code",
      "source": [
        "train_dataset.get_block_size()"
      ],
      "metadata": {
        "colab": {
          "base_uri": "https://localhost:8080/"
        },
        "id": "rhBLEQ-8KX3i",
        "outputId": "9fe76850-fd92-4d8a-eed8-bd46c6cd1227"
      },
      "execution_count": 11,
      "outputs": [
        {
          "output_type": "execute_result",
          "data": {
            "text/plain": [
              "52"
            ]
          },
          "metadata": {},
          "execution_count": 11
        }
      ]
    },
    {
      "cell_type": "code",
      "source": [
        "from mingpt.model import GPT\n",
        "\n",
        "model_config = GPT.get_default_config()\n",
        "model_config.model_type = 'gpt-nano'\n",
        "model_config.vocab_size = train_dataset.get_vocab_size()\n",
        "model_config.block_size = 512\n",
        "model_config.n_classification_class = 2\n",
        "model = GPT(model_config)"
      ],
      "metadata": {
        "colab": {
          "base_uri": "https://localhost:8080/"
        },
        "id": "YlY_3SFM5LH8",
        "outputId": "5a30733f-d1c2-4a65-dc4a-badb194f80de"
      },
      "execution_count": 12,
      "outputs": [
        {
          "output_type": "stream",
          "name": "stdout",
          "text": [
            "number of parameters: 2.52M\n"
          ]
        }
      ]
    },
    {
      "cell_type": "code",
      "source": [
        "modelsavename= \"model_large.pt\""
      ],
      "metadata": {
        "id": "HCsaCTWtKxZD"
      },
      "execution_count": 13,
      "outputs": []
    },
    {
      "cell_type": "code",
      "source": [
        "model.load_state_dict(torch.load(modelsavename))"
      ],
      "metadata": {
        "colab": {
          "base_uri": "https://localhost:8080/"
        },
        "id": "wUEQcGmMLlph",
        "outputId": "abb8463e-0ff7-407e-8021-5865e9f3385a"
      },
      "execution_count": 14,
      "outputs": [
        {
          "output_type": "execute_result",
          "data": {
            "text/plain": [
              "<All keys matched successfully>"
            ]
          },
          "metadata": {},
          "execution_count": 14
        }
      ]
    },
    {
      "cell_type": "code",
      "source": [
        "def lm_collate_fn(batch, device):\n",
        "    x = [item[0] for item in batch]  # List (len B) of varying lengths\n",
        "    y = [item[1] for item in batch]  # List (len B) of the same lengths as x\n",
        "    maxlen = max([len(s) for s in x])\n",
        "\n",
        "    padded_x, padded_y = [], []\n",
        "    for sx, sy in zip(x, y):\n",
        "        padded_x.append(torch.cat([sx, torch.ones(maxlen - len(sx))]))\n",
        "        padded_y.append(sy)\n",
        "    return torch.stack(padded_x).long().to(device), torch.stack(padded_y).long().to(device)"
      ],
      "metadata": {
        "id": "O5xnHIE1L8aV"
      },
      "execution_count": 15,
      "outputs": []
    },
    {
      "cell_type": "code",
      "source": [
        "# Create a Trainer object and set the core hyper-parameters\n",
        "from mingpt.trainer import Trainer\n",
        "\n",
        "train_config = Trainer.get_default_config()\n",
        "train_config.learning_rate = 5e-5 # the model we're using is so small that we can go a bit faster\n",
        "train_config.max_iters = 1000  # For small corpus: 3000 iterations is plenty. For large corpus: 100000 iterations is needed\n",
        "train_config.num_workers = 0\n",
        "train_config.batch_size = 64    # For small corpus, batch size of 4 is fine.  For large corpus use 16\n",
        "trainer = Trainer(train_config, model, train_dataset, val_dataset, collate_fn=lm_collate_fn, downstream_finetune=True)"
      ],
      "metadata": {
        "colab": {
          "base_uri": "https://localhost:8080/"
        },
        "id": "wrydvZsdOmqq",
        "outputId": "590502e3-2ffb-43a6-f960-c8454dbbec29"
      },
      "execution_count": 16,
      "outputs": [
        {
          "output_type": "stream",
          "name": "stdout",
          "text": [
            "running on device cuda\n"
          ]
        }
      ]
    },
    {
      "cell_type": "code",
      "source": [
        "# This function is called at the end of every batch in training\n",
        "# and is used to report the amount of time per 100 batches, and the loss at that point\n",
        "train_loss, val_loss = [], []\n",
        "train_acc, val_acc = [], []\n",
        "def batch_end_callback(trainer):\n",
        "  if trainer.iter_num % 100 == 0:\n",
        "      print(f\"iter_dt {trainer.iter_dt * 1000:.2f}ms; iter {trainer.iter_num}: train loss {trainer.loss.item():.5f}\")\n",
        "      # store the loss\n",
        "      train_loss.append(trainer.loss.item())\n",
        "      train_acc.append(trainer.train_acc.item())\n",
        "trainer.set_callback('on_batch_end', batch_end_callback)\n",
        "\n",
        "def val_batch_end_callback(trainer):\n",
        "  if trainer.iter_num % 100 == 0:\n",
        "      print(f\"iter_dt {trainer.iter_dt * 1000:.2f}ms; iter {trainer.iter_num}: val loss {trainer.val_loss.item():.5f}\")\n",
        "      # store the loss\n",
        "      val_loss.append(trainer.val_loss.item())\n",
        "      val_acc.append(trainer.val_acc.item())\n",
        "trainer.set_callback('on_val_batch_end', val_batch_end_callback)\n",
        "\n",
        "def train_end_callback(trainer):\n",
        "    print('validation accuracy= ',trainer.final_acc.item()*100,'%')\n",
        "\n",
        "trainer.set_callback('on_train_end', train_end_callback)\n",
        "\n",
        "# Train!\n",
        "trainer.run()"
      ],
      "metadata": {
        "colab": {
          "base_uri": "https://localhost:8080/"
        },
        "id": "yXW0OmSnO1Np",
        "outputId": "e4a6cc14-22ea-4d05-d371-c8f73b9f8f4c"
      },
      "execution_count": 17,
      "outputs": [
        {
          "output_type": "stream",
          "name": "stdout",
          "text": [
            "iter_dt 0.00ms; iter 0: train loss 1.31726\n",
            "iter_dt 0.00ms; iter 0: val loss 0.75063\n",
            "iter_dt 66.99ms; iter 100: train loss 0.91475\n",
            "iter_dt 66.99ms; iter 100: val loss 0.74503\n",
            "iter_dt 29.24ms; iter 200: train loss 0.82192\n",
            "iter_dt 29.24ms; iter 200: val loss 0.75447\n",
            "iter_dt 18.31ms; iter 300: train loss 0.71400\n",
            "iter_dt 18.31ms; iter 300: val loss 0.67283\n",
            "iter_dt 18.12ms; iter 400: train loss 0.59334\n",
            "iter_dt 18.12ms; iter 400: val loss 0.74207\n",
            "iter_dt 19.79ms; iter 500: train loss 0.52276\n",
            "iter_dt 19.79ms; iter 500: val loss 0.78225\n",
            "iter_dt 23.53ms; iter 600: train loss 0.36483\n",
            "iter_dt 23.53ms; iter 600: val loss 0.77264\n",
            "iter_dt 19.01ms; iter 700: train loss 0.17539\n",
            "iter_dt 19.01ms; iter 700: val loss 0.84209\n",
            "iter_dt 17.10ms; iter 800: train loss 0.27834\n",
            "iter_dt 17.10ms; iter 800: val loss 0.98624\n",
            "iter_dt 17.64ms; iter 900: train loss 0.19144\n",
            "iter_dt 17.64ms; iter 900: val loss 1.44215\n",
            "validation accuracy=  66.66666865348816 %\n"
          ]
        }
      ]
    },
    {
      "cell_type": "code",
      "source": [
        "plt.plot(np.arange(len(train_loss))*100, train_loss, label='train loss')\n",
        "plt.plot(np.arange(len(val_loss))*100, val_loss, label='validation loss')\n",
        "plt.xlabel('iterations')\n",
        "plt.ylabel('error')\n",
        "plt.legend()\n",
        "plt.show()"
      ],
      "metadata": {
        "colab": {
          "base_uri": "https://localhost:8080/",
          "height": 279
        },
        "id": "ts6dbT1IX0FX",
        "outputId": "f47e2163-0f0e-4e36-d6bb-aa15e03d52ee"
      },
      "execution_count": 18,
      "outputs": [
        {
          "output_type": "display_data",
          "data": {
            "text/plain": [
              "<Figure size 432x288 with 1 Axes>"
            ],
            "image/png": "[encoded data removed]"
          },
          "metadata": {
            "needs_background": "light"
          }
        }
      ]
    },
    {
      "cell_type": "code",
      "source": [
        "plt.plot(np.arange(len(train_acc))*100, train_acc, label='train accuracy')\n",
        "plt.plot(np.arange(len(val_acc))*100, val_acc, label='validation accuracy')\n",
        "plt.xlabel('iterations')\n",
        "plt.ylabel('accuracy')\n",
        "plt.legend()\n",
        "plt.show()"
      ],
      "metadata": {
        "colab": {
          "base_uri": "https://localhost:8080/",
          "height": 279
        },
        "id": "CZ7y1-IAYwa_",
        "outputId": "86aaf381-ede9-4402-da59-b690be238750"
      },
      "execution_count": 19,
      "outputs": [
        {
          "output_type": "display_data",
          "data": {
            "text/plain": [
              "<Figure size 432x288 with 1 Axes>"
            ],
            "image/png": "[encoded data removed]"
          },
          "metadata": {
            "needs_background": "light"
          }
        }
      ]
    }
  ]
}